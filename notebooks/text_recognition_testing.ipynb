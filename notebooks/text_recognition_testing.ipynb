{
 "cells": [
  {
   "cell_type": "markdown",
   "metadata": {},
   "source": [
    "Оценка предобученных моделей распознавая текста на изображениях"
   ]
  },
  {
   "cell_type": "markdown",
   "metadata": {},
   "source": [
    "Для изображений логотипов извлечение информации может быть полезным в случае наличия текстовых данных в логотипов.\n",
    "\n",
    "Подобные алгоритмы могут быть полезны для оценки сходства входного логотоипа (или названия соответствующего бренда) с найденным в видеоролике при помощи известных метрик, например (расстояние Левенштейна)"
   ]
  },
  {
   "cell_type": "code",
   "execution_count": 1,
   "metadata": {
    "execution": {
     "iopub.execute_input": "2025-02-01T17:23:12.250787Z",
     "iopub.status.busy": "2025-02-01T17:23:12.250372Z",
     "iopub.status.idle": "2025-02-01T17:23:18.385779Z",
     "shell.execute_reply": "2025-02-01T17:23:18.384422Z",
     "shell.execute_reply.started": "2025-02-01T17:23:12.250753Z"
    },
    "trusted": true
   },
   "outputs": [],
   "source": [
    "import numpy as np\n",
    "import pandas as pd \n",
    "import random\n",
    "import torch\n",
    "\n",
    "import matplotlib.pyplot as plt\n",
    "from PIL import Image\n",
    "\n",
    "import warnings\n",
    "warnings.filterwarnings('ignore')\n",
    "from tqdm.auto import tqdm"
   ]
  },
  {
   "cell_type": "markdown",
   "metadata": {},
   "source": [
    "Seed"
   ]
  },
  {
   "cell_type": "code",
   "execution_count": 2,
   "metadata": {
    "execution": {
     "iopub.execute_input": "2025-02-01T17:23:20.189297Z",
     "iopub.status.busy": "2025-02-01T17:23:20.188677Z",
     "iopub.status.idle": "2025-02-01T17:23:20.202148Z",
     "shell.execute_reply": "2025-02-01T17:23:20.200699Z",
     "shell.execute_reply.started": "2025-02-01T17:23:20.189257Z"
    },
    "trusted": true
   },
   "outputs": [],
   "source": [
    "SEED = 42\n",
    "\n",
    "torch.manual_seed(SEED)\n",
    "torch.cuda.manual_seed(SEED)\n",
    "torch.cuda.manual_seed_all(SEED)\n",
    "random.seed(SEED)\n",
    "np.random.seed(SEED)\n",
    "torch.backends.cudnn.benchmark = False\n",
    "torch.backends.cudnn.deterministic = True"
   ]
  },
  {
   "cell_type": "markdown",
   "metadata": {},
   "source": [
    "Исследование предобученных моделей, которые можно использовать локально"
   ]
  },
  {
   "cell_type": "markdown",
   "metadata": {},
   "source": [
    "Tesseract"
   ]
  },
  {
   "cell_type": "code",
   "execution_count": 3,
   "metadata": {
    "execution": {
     "iopub.execute_input": "2025-02-01T17:23:22.007503Z",
     "iopub.status.busy": "2025-02-01T17:23:22.007132Z",
     "iopub.status.idle": "2025-02-01T17:23:27.954306Z",
     "shell.execute_reply": "2025-02-01T17:23:27.952729Z",
     "shell.execute_reply.started": "2025-02-01T17:23:22.007473Z"
    },
    "trusted": true
   },
   "outputs": [
    {
     "name": "stdout",
     "output_type": "stream",
     "text": [
      "Requirement already satisfied: pytesseract in /usr/local/lib/python3.10/dist-packages (0.3.13)\n",
      "Requirement already satisfied: packaging>=21.3 in /usr/local/lib/python3.10/dist-packages (from pytesseract) (24.2)\n",
      "Requirement already satisfied: Pillow>=8.0.0 in /usr/local/lib/python3.10/dist-packages (from pytesseract) (11.0.0)\n",
      "Note: you may need to restart the kernel to use updated packages.\n"
     ]
    }
   ],
   "source": [
    "pip install pytesseract"
   ]
  },
  {
   "cell_type": "code",
   "execution_count": 4,
   "metadata": {
    "execution": {
     "iopub.execute_input": "2025-02-01T17:23:27.956907Z",
     "iopub.status.busy": "2025-02-01T17:23:27.956424Z",
     "iopub.status.idle": "2025-02-01T17:23:28.360730Z",
     "shell.execute_reply": "2025-02-01T17:23:28.359395Z",
     "shell.execute_reply.started": "2025-02-01T17:23:27.956850Z"
    },
    "trusted": true
   },
   "outputs": [],
   "source": [
    "import cv2\n",
    "import pytesseract"
   ]
  },
  {
   "cell_type": "markdown",
   "metadata": {},
   "source": [
    "Инференс"
   ]
  },
  {
   "cell_type": "code",
   "execution_count": 5,
   "metadata": {
    "execution": {
     "iopub.execute_input": "2025-02-01T17:23:30.406209Z",
     "iopub.status.busy": "2025-02-01T17:23:30.405871Z",
     "iopub.status.idle": "2025-02-01T17:23:30.941323Z",
     "shell.execute_reply": "2025-02-01T17:23:30.940093Z",
     "shell.execute_reply.started": "2025-02-01T17:23:30.406184Z"
    },
    "trusted": true
   },
   "outputs": [
    {
     "name": "stdout",
     "output_type": "stream",
     "text": [
      " \n",
      "\f\n"
     ]
    }
   ],
   "source": [
    "first_img_path = '/kaggle/input/example-images/adidas_shop.jpg'\n",
    "second_img_path = '/kaggle/input/example-images/nike_logo.jpg'\n",
    "\n",
    "print(pytesseract.image_to_string(Image.open(first_img_path)))"
   ]
  },
  {
   "cell_type": "code",
   "execution_count": 6,
   "metadata": {
    "execution": {
     "iopub.execute_input": "2025-02-01T17:23:32.217801Z",
     "iopub.status.busy": "2025-02-01T17:23:32.217436Z",
     "iopub.status.idle": "2025-02-01T17:23:32.433843Z",
     "shell.execute_reply": "2025-02-01T17:23:32.432355Z",
     "shell.execute_reply.started": "2025-02-01T17:23:32.217774Z"
    },
    "trusted": true
   },
   "outputs": [
    {
     "name": "stdout",
     "output_type": "stream",
     "text": [
      " \n",
      "\n",
      " \n",
      "\n",
      "JUST DOIT.\n",
      "\f\n"
     ]
    }
   ],
   "source": [
    "print(pytesseract.image_to_string(Image.open(second_img_path)))"
   ]
  },
  {
   "cell_type": "markdown",
   "metadata": {},
   "source": [
    "Здесь уже инференс сработал"
   ]
  },
  {
   "cell_type": "markdown",
   "metadata": {},
   "source": [
    "Easy OCR"
   ]
  },
  {
   "cell_type": "code",
   "execution_count": 7,
   "metadata": {
    "execution": {
     "iopub.execute_input": "2025-02-01T17:23:34.786579Z",
     "iopub.status.busy": "2025-02-01T17:23:34.786077Z",
     "iopub.status.idle": "2025-02-01T17:23:45.845219Z",
     "shell.execute_reply": "2025-02-01T17:23:45.843932Z",
     "shell.execute_reply.started": "2025-02-01T17:23:34.786542Z"
    },
    "trusted": true
   },
   "outputs": [],
   "source": [
    "import easyocr\n",
    "reader = easyocr.Reader(['en'])"
   ]
  },
  {
   "cell_type": "code",
   "execution_count": 8,
   "metadata": {
    "execution": {
     "iopub.execute_input": "2025-02-01T17:23:47.442185Z",
     "iopub.status.busy": "2025-02-01T17:23:47.441551Z",
     "iopub.status.idle": "2025-02-01T17:23:52.873575Z",
     "shell.execute_reply": "2025-02-01T17:23:52.871911Z",
     "shell.execute_reply.started": "2025-02-01T17:23:47.442154Z"
    },
    "trusted": true
   },
   "outputs": [
    {
     "name": "stdout",
     "output_type": "stream",
     "text": [
      "Text: JUST DOIi, Probability: 0.38044783663863674\n"
     ]
    }
   ],
   "source": [
    "results = reader.readtext(second_img_path)\n",
    "for (bbox, text, prob) in results:\n",
    "    print(f'Text: {text}, Probability: {prob}')\n"
   ]
  },
  {
   "cell_type": "code",
   "execution_count": 9,
   "metadata": {
    "execution": {
     "iopub.execute_input": "2025-02-01T17:23:56.998107Z",
     "iopub.status.busy": "2025-02-01T17:23:56.997673Z",
     "iopub.status.idle": "2025-02-01T17:24:18.759369Z",
     "shell.execute_reply": "2025-02-01T17:24:18.758159Z",
     "shell.execute_reply.started": "2025-02-01T17:23:56.998078Z"
    },
    "trusted": true
   },
   "outputs": [
    {
     "name": "stdout",
     "output_type": "stream",
     "text": [
      "Text: clclces, Probability: 0.4152791785764064\n"
     ]
    }
   ],
   "source": [
    "results = reader.readtext(first_img_path)\n",
    "for (bbox, text, prob) in results:\n",
    "    print(f'Text: {text}, Probability: {prob}')"
   ]
  },
  {
   "cell_type": "markdown",
   "metadata": {},
   "source": [
    "Hugging Face API"
   ]
  },
  {
   "cell_type": "markdown",
   "metadata": {},
   "source": [
    "Vision Encoder-Decoder model"
   ]
  },
  {
   "cell_type": "code",
   "execution_count": 10,
   "metadata": {
    "execution": {
     "iopub.execute_input": "2025-02-01T17:24:23.430341Z",
     "iopub.status.busy": "2025-02-01T17:24:23.429984Z",
     "iopub.status.idle": "2025-02-01T17:25:02.558881Z",
     "shell.execute_reply": "2025-02-01T17:25:02.557477Z",
     "shell.execute_reply.started": "2025-02-01T17:24:23.430313Z"
    },
    "trusted": true
   },
   "outputs": [
    {
     "data": {
      "application/vnd.jupyter.widget-view+json": {
       "model_id": "ded83a1c48a648caad5d9f76214e8c26",
       "version_major": 2,
       "version_minor": 0
      },
      "text/plain": [
       "preprocessor_config.json:   0%|          | 0.00/224 [00:00<?, ?B/s]"
      ]
     },
     "metadata": {},
     "output_type": "display_data"
    },
    {
     "data": {
      "application/vnd.jupyter.widget-view+json": {
       "model_id": "ff64acb1994d4e89bf6ac9a0d87c0c32",
       "version_major": 2,
       "version_minor": 0
      },
      "text/plain": [
       "tokenizer_config.json:   0%|          | 0.00/1.12k [00:00<?, ?B/s]"
      ]
     },
     "metadata": {},
     "output_type": "display_data"
    },
    {
     "data": {
      "application/vnd.jupyter.widget-view+json": {
       "model_id": "480ff9cbc7e946fb86895c6d36dafef4",
       "version_major": 2,
       "version_minor": 0
      },
      "text/plain": [
       "vocab.json:   0%|          | 0.00/899k [00:00<?, ?B/s]"
      ]
     },
     "metadata": {},
     "output_type": "display_data"
    },
    {
     "data": {
      "application/vnd.jupyter.widget-view+json": {
       "model_id": "a743450f883d4c59bd7f6153195f1cd7",
       "version_major": 2,
       "version_minor": 0
      },
      "text/plain": [
       "merges.txt:   0%|          | 0.00/456k [00:00<?, ?B/s]"
      ]
     },
     "metadata": {},
     "output_type": "display_data"
    },
    {
     "data": {
      "application/vnd.jupyter.widget-view+json": {
       "model_id": "a6e5a386ea47428e83f71e76e2b9cb24",
       "version_major": 2,
       "version_minor": 0
      },
      "text/plain": [
       "special_tokens_map.json:   0%|          | 0.00/772 [00:00<?, ?B/s]"
      ]
     },
     "metadata": {},
     "output_type": "display_data"
    },
    {
     "data": {
      "application/vnd.jupyter.widget-view+json": {
       "model_id": "08d62e24c80b49c28211becc373abda7",
       "version_major": 2,
       "version_minor": 0
      },
      "text/plain": [
       "config.json:   0%|          | 0.00/4.17k [00:00<?, ?B/s]"
      ]
     },
     "metadata": {},
     "output_type": "display_data"
    },
    {
     "data": {
      "application/vnd.jupyter.widget-view+json": {
       "model_id": "c29c367edf854cc88a130811d1af985e",
       "version_major": 2,
       "version_minor": 0
      },
      "text/plain": [
       "model.safetensors:   0%|          | 0.00/1.33G [00:00<?, ?B/s]"
      ]
     },
     "metadata": {},
     "output_type": "display_data"
    },
    {
     "name": "stderr",
     "output_type": "stream",
     "text": [
      "Config of the encoder: <class 'transformers.models.vit.modeling_vit.ViTModel'> is overwritten by shared encoder config: ViTConfig {\n",
      "  \"attention_probs_dropout_prob\": 0.0,\n",
      "  \"encoder_stride\": 16,\n",
      "  \"hidden_act\": \"gelu\",\n",
      "  \"hidden_dropout_prob\": 0.0,\n",
      "  \"hidden_size\": 768,\n",
      "  \"image_size\": 384,\n",
      "  \"initializer_range\": 0.02,\n",
      "  \"intermediate_size\": 3072,\n",
      "  \"layer_norm_eps\": 1e-12,\n",
      "  \"model_type\": \"vit\",\n",
      "  \"num_attention_heads\": 12,\n",
      "  \"num_channels\": 3,\n",
      "  \"num_hidden_layers\": 12,\n",
      "  \"patch_size\": 16,\n",
      "  \"qkv_bias\": false,\n",
      "  \"transformers_version\": \"4.47.0\"\n",
      "}\n",
      "\n",
      "Config of the decoder: <class 'transformers.models.trocr.modeling_trocr.TrOCRForCausalLM'> is overwritten by shared decoder config: TrOCRConfig {\n",
      "  \"activation_dropout\": 0.0,\n",
      "  \"activation_function\": \"gelu\",\n",
      "  \"add_cross_attention\": true,\n",
      "  \"attention_dropout\": 0.0,\n",
      "  \"bos_token_id\": 0,\n",
      "  \"classifier_dropout\": 0.0,\n",
      "  \"cross_attention_hidden_size\": 768,\n",
      "  \"d_model\": 1024,\n",
      "  \"decoder_attention_heads\": 16,\n",
      "  \"decoder_ffn_dim\": 4096,\n",
      "  \"decoder_layerdrop\": 0.0,\n",
      "  \"decoder_layers\": 12,\n",
      "  \"decoder_start_token_id\": 2,\n",
      "  \"dropout\": 0.1,\n",
      "  \"eos_token_id\": 2,\n",
      "  \"init_std\": 0.02,\n",
      "  \"is_decoder\": true,\n",
      "  \"layernorm_embedding\": true,\n",
      "  \"max_position_embeddings\": 512,\n",
      "  \"model_type\": \"trocr\",\n",
      "  \"pad_token_id\": 1,\n",
      "  \"scale_embedding\": false,\n",
      "  \"transformers_version\": \"4.47.0\",\n",
      "  \"use_cache\": false,\n",
      "  \"use_learned_position_embeddings\": true,\n",
      "  \"vocab_size\": 50265\n",
      "}\n",
      "\n",
      "Some weights of VisionEncoderDecoderModel were not initialized from the model checkpoint at microsoft/trocr-base-handwritten and are newly initialized: ['encoder.pooler.dense.bias', 'encoder.pooler.dense.weight']\n",
      "You should probably TRAIN this model on a down-stream task to be able to use it for predictions and inference.\n"
     ]
    },
    {
     "data": {
      "application/vnd.jupyter.widget-view+json": {
       "model_id": "7967b27a6cd94de2ae84cb9780fcf362",
       "version_major": 2,
       "version_minor": 0
      },
      "text/plain": [
       "generation_config.json:   0%|          | 0.00/190 [00:00<?, ?B/s]"
      ]
     },
     "metadata": {},
     "output_type": "display_data"
    }
   ],
   "source": [
    "from transformers import TrOCRProcessor, VisionEncoderDecoderModel\n",
    "\n",
    "processor = TrOCRProcessor.from_pretrained(\"microsoft/trocr-base-handwritten\")\n",
    "model = VisionEncoderDecoderModel.from_pretrained(\"microsoft/trocr-base-handwritten\")"
   ]
  },
  {
   "cell_type": "code",
   "execution_count": 11,
   "metadata": {
    "execution": {
     "iopub.execute_input": "2025-02-01T17:25:07.738498Z",
     "iopub.status.busy": "2025-02-01T17:25:07.737558Z",
     "iopub.status.idle": "2025-02-01T17:25:10.191207Z",
     "shell.execute_reply": "2025-02-01T17:25:10.190238Z",
     "shell.execute_reply.started": "2025-02-01T17:25:07.738458Z"
    },
    "trusted": true
   },
   "outputs": [
    {
     "name": "stdout",
     "output_type": "stream",
     "text": [
      "justport .\n"
     ]
    }
   ],
   "source": [
    "image = Image.open(second_img_path).convert(\"RGB\")\n",
    "\n",
    "pixel_values = processor(image, return_tensors=\"pt\").pixel_values\n",
    "generated_ids = model.generate(pixel_values)\n",
    "\n",
    "generated_text = processor.batch_decode(generated_ids, skip_special_tokens=True)[0]\n",
    "print(generated_text)"
   ]
  },
  {
   "cell_type": "markdown",
   "metadata": {},
   "source": [
    "DocTR"
   ]
  },
  {
   "cell_type": "code",
   "execution_count": null,
   "metadata": {
    "_kg_hide-output": true,
    "trusted": true
   },
   "outputs": [],
   "source": [
    "pip install inference-sdk"
   ]
  },
  {
   "cell_type": "code",
   "execution_count": 3,
   "metadata": {
    "execution": {
     "iopub.execute_input": "2025-02-01T17:27:56.563374Z",
     "iopub.status.busy": "2025-02-01T17:27:56.562987Z",
     "iopub.status.idle": "2025-02-01T17:27:58.780712Z",
     "shell.execute_reply": "2025-02-01T17:27:58.779269Z",
     "shell.execute_reply.started": "2025-02-01T17:27:56.563346Z"
    },
    "trusted": true
   },
   "outputs": [],
   "source": [
    "import os\n",
    "from inference_sdk import InferenceHTTPClient\n",
    "\n",
    "CLIENT = InferenceHTTPClient(\n",
    "    api_url=\"https://infer.roboflow.com\",\n",
    "    api_key='gKkrveQc1gtDAoKcppQq'\n",
    ")\n",
    "\n",
    "result = CLIENT.ocr_image(inference_input=first_img_path)  \n",
    "print(result)"
   ]
  },
  {
   "cell_type": "markdown",
   "metadata": {},
   "source": [
    "Итак, для извлечения текстовой инфоромации об изображении имеет смысл использовать Roboflow DocTR API"
   ]
  },
  {
   "cell_type": "code",
   "execution_count": null,
   "metadata": {
    "trusted": true
   },
   "outputs": [],
   "source": []
  }
 ],
 "metadata": {
  "kaggle": {
   "accelerator": "none",
   "dataSources": [
    {
     "datasetId": 6585837,
     "sourceId": 10636921,
     "sourceType": "datasetVersion"
    }
   ],
   "dockerImageVersionId": 30839,
   "isGpuEnabled": false,
   "isInternetEnabled": true,
   "language": "python",
   "sourceType": "notebook"
  },
  "kernelspec": {
   "display_name": "Python 3",
   "language": "python",
   "name": "python3"
  },
  "language_info": {
   "codemirror_mode": {
    "name": "ipython",
    "version": 3
   },
   "file_extension": ".py",
   "mimetype": "text/x-python",
   "name": "python",
   "nbconvert_exporter": "python",
   "pygments_lexer": "ipython3",
   "version": "3.12.3"
  }
 },
 "nbformat": 4,
 "nbformat_minor": 4
}
